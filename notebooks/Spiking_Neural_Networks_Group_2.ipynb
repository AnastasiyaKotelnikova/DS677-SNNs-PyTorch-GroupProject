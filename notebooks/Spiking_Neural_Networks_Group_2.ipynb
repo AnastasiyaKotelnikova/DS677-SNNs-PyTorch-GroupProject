<<<<<<< HEAD
# DS677-Group Project

# Phase 1: Dataset Preparation & Model Implementation:

# 1. Finalize dataset selection and preprocessing pipeline
# 2. Implement PyTorch DataLoader for efficient data handling
# 3. Explore dataset visualization and feature extraction
# 4. Investigate suitable SNN architectures
# 5. Implement and train the first SNN model using Norse
# 6. Analyze initial results and log performance metrics

!pip install norse

# Import Required Libraries

import torch
import torch.nn as nn
import torch.nn.functional as F
from torch.utils.data import Dataset, DataLoader
import h5py
import numpy as np

# Norse for spiking models
import norse.torch as norse
# Set device (GPU if available)
device = torch.device("cuda" if torch.cuda.is_available() else "cpu")
print("Using device:", device)
**1. Finalize dataset selection and preprocessing pipeline**
**Download SHD Dataset:**

This step downloads the Spiking Heidelberg Digits (SHD) dataset directly into the working directory using wget. It includes:

shd_train.h5.gz: The compressed training dataset

shd_test.h5.gz: The compressed testing dataset

These files are required for loading and preprocessing spike-based neural data in later steps.
# Download SHD training and test sets directly into /content/
!wget -O /content/shd_train.h5.gz https://compneuro.net/datasets/shd_train.h5.gz
!wget -O /content/shd_test.h5.gz https://compneuro.net/datasets/shd_test.h5.gz

**Load and Inspect SHD Dataset Structure**
This block performs three key tasks:

**1. Confirms File Access:**
Opens the shd_train.h5 file to verify that it exists and displays its top-level keys.
Expected keys: 'extra', 'labels', and 'spikes'.

**2. Inspects Data Structure:**
Displays the keys under 'spikes' to check how spike data is stored ('times', 'units').
Verifies that 'labels' contains 8156 samples, confirming the dataset size.

**3. Loads Data into Memory:**
Extracts the spike times, spike units, and labels from the HDF5 file for further processing and training.
# Confirms the file is loaded correctly

file_path = '/content/shd_train.h5'
with h5py.File(file_path, 'r') as f:
    print("Available keys:", list(f.keys()))

# Confirms the label shape → 8156, indicating number of samples

with h5py.File(file_path, 'r') as f:
    print("Spikes group keys:", list(f['spikes'].keys()))
    print("Labels dataset shape:", f['labels'].shape)

# Loads the data into memory

with h5py.File(file_path, 'r') as f:
    spikes_times = f['spikes']['times'][:]
    spikes_units = f['spikes']['units'][:]
    labels = f['labels'][:]

**2. Implement PyTorch DataLoader for efficient data handling**
**This custom SHDDataset class allows integration of the Spiking Heidelberg Digits (SHD) dataset into a PyTorch pipeline:**
# Define Custom Dataset Loader

class SHDDataset(Dataset):
    def __init__(self, file_path):
        self.file = h5py.File(file_path, 'r')
        self.spike_times = self.file['times']
        self.spike_units = self.file['spikes']
        self.labels = self.file['labels']

    def __len__(self):
        return len(self.labels)

    def __getitem__(self, idx):
        return {
            'spike_times': self.spike_times[idx],
            'spike_units': self.spike_units[idx],
            'label': self.labels[idx]
        }

**3. Explore dataset visualization and feature extraction**
**This shd_collate_fn function is designed to help PyTorch’s DataLoader handle variable-length spiking data sequences.**
# Define a Custom Collate Function for Uneven Sequences

def shd_collate_fn(batch):
    spike_times = [item['spike_times'] for item in batch]
    spike_units = [item['spike_units'] for item in batch]
    labels = torch.tensor([item['label'] for item in batch], dtype=torch.long)

    return {
        'spike_times': spike_times,
        'spike_units': spike_units,
        'label': labels
    }

**This function convert_to_spike_tensor transforms raw spike event data (times and units) into a 3D PyTorch tensor format suitable for feeding into a spiking neural network (SNN).**
# Convert Spikes to a Tensor

def convert_to_spike_tensor(spike_times, spike_units, batch_size, input_size, duration, dt):
    timesteps = int(duration / dt)
    spike_tensor = torch.zeros((timesteps, batch_size, input_size), dtype=torch.float32)

    for b in range(batch_size):
        times = spike_times[b]
        units = spike_units[b]
        time_bins = (times / dt).astype(int)

        for t, u in zip(time_bins, units):
            if t < timesteps and u < input_size:
                spike_tensor[t, b, u] = 1.0
    return spike_tensor

**4.  Investigate suitable SNN architectures**
**This SimpleSNN class defines a basic two-layer spiking neural network leveraging the Norse library, which integrates biologically inspired spiking neuron models into PyTorch.**

**Norse enables temporal dynamics in neurons, allowing this model to learn from the timing of spikes, not just their count — essential for working with spiking datasets like SHD.**
**bold text**

# Define the SNN Model with Norse

class SimpleSNN(nn.Module):
    def __init__(self):
        super().__init__()
        self.fc1 = nn.Linear(700, 128)
        self.lif1 = norse.LIFCell()
        self.fc2 = nn.Linear(128, 20)  # 20 output classes
        self.lif2 = norse.LIFCell()

    def forward(self, x):
        seq_length, batch_size, _ = x.shape
        lif1_state = self.lif1.state
        lif2_state = self.lif2.state
        outputs = []

        for t in range(seq_length):
            z = self.fc1(x[t])
            z, lif1_state = self.lif1(z, lif1_state)
            z = self.fc2(z)
            z, lif2_state = self.lif2(z, lif2_state)
            outputs.append(z)

        return torch.stack(outputs)

**This cell opens the SHD training file using h5py and explores the 'spikes' group, which contains the spiking event data for all samples.**
with h5py.File('/content/shd_train.h5', 'r') as f:
    spike_group = f['spikes']
    keys = list(spike_group.keys())
    print("First 10 keys in spikes group:", keys[:10])

**This cell defines a custom SHDDataset class, which extends PyTorch's Dataset # interface. It allows efficient indexed access to the SHD dataset stored in HDF5 format, and converts: 'spikes' into a PyTorch tensor of spike data 'label' into a PyTorch tensor of class labels.
This class is required for integration with DataLoader in PyTorch.**
# Custom Dataset Class for SHD (.h5) File

class SHDDataset(Dataset):
    def __init__(self, file_path):
        self.file_path = file_path
        with h5py.File(file_path, 'r') as f:
            self.length = len(f['spikes'].keys())
            self.keys = list(f['spikes'].keys())
            self.labels = f['labels'][:]

    def __len__(self):
        return self.length

    def __getitem__(self, idx):
        with h5py.File(self.file_path, 'r') as f:
            key = self.keys[idx]
            spike_data = f['spikes'][key][:]
            label = self.labels[idx]
        return {
            'spikes': torch.tensor(spike_data, dtype=torch.float32),
            'label': torch.tensor(label, dtype=torch.long)
        }

**This code loads the core spiking data from the SHD dataset:**

f['spikes']['times'][:] loads the spike timing information (when each spike occurred).

f['spikes']['units'][:] loads the spike unit/neuron identifiers (which neuron fired).

f['labels'][:] loads the class labels (spoken digit for each sample).


**Outputs:**

Each of these arrays has shape (8156,), meaning the dataset contains 8156 spike events and corresponding labels — confirming consistency across features and targets.
# Extract and Inspect 'times' and 'units' Data

file_path = '/content/shd_train.h5'

with h5py.File(file_path, 'r') as f:
    times = f['spikes']['times'][:]
    units = f['spikes']['units'][:]
    labels = f['labels'][:]

print(f"Times shape: {times.shape}")
print(f"Units shape: {units.shape}")
print(f"Labels shape: {labels.shape}")

**This code defines a reusable custom SHDDataset class that extends PyTorch’s Dataset.**

__init__: Loads the spike timing (times), neuron units (units), and labels from the SHD .h5 file into memory.

__len__: Returns the number of samples in the dataset (based on number of labels).

__getitem__: Allows indexing like dataset[i] to return a dictionary containing:

'spike_times'

'spike_units'

'label'
# Wrap It Into a Custom Dataset Class

from torch.utils.data import Dataset

class SHDDataset(Dataset):
    def __init__(self, file_path):
        with h5py.File(file_path, 'r') as f:
            self.spike_times = f['spikes']['times'][:]
            self.spike_units = f['spikes']['units'][:]
            self.labels = f['labels'][:]

    def __len__(self):
        return len(self.labels)

    def __getitem__(self, idx):
        return {
            'spike_times': self.spike_times[idx],
            'spike_units': self.spike_units[idx],
            'label': self.labels[idx]
        }

**This shd_collate_fn function is designed for use with a PyTorch DataLoader to collate batches of SHD data where samples have variable spike lengths (common in event-based datasets).**

For each batch:

spike_times and spike_units are collected as lists (not tensors) because their lengths vary.

labels are converted into a fixed-size tensor (1D integer tensor) using torch.tensor(...).
#  Define a Custom Collate Function
# This handles batches where each sample might have different spike lengths

def shd_collate_fn(batch):
    spike_times = [item['spike_times'] for item in batch]
    spike_units = [item['spike_units'] for item in batch]
    labels = torch.tensor([item['label'] for item in batch], dtype=torch.long)
    return {
        'spike_times': spike_times,
        'spike_units': spike_units,
        'label': labels
    }

**In this step, we create a DataLoader to efficiently iterate over the SHD dataset:**

**train_dataset:** Created using our custom SHDDataset class which loads spike data and labels from the SHD training file.

**train_loader:** Uses PyTorch DataLoader with:

- batch_size=32: Fetches 32 samples per batch

- shuffle=True: Ensures randomization during each epoch

- collate_fn=shd_collate_fn: Custom function to handle variable-length sequences.

**Outputs:**

The spike_times list has 32 elements → one per sample.

The label tensor has shape [32] → corresponding class labels.

This confirms our custom dataset and DataLoader are working correctly.
# Create DataLoader

train_dataset = SHDDataset('/content/shd_train.h5')
train_loader = DataLoader(train_dataset, batch_size=32, shuffle=True, collate_fn=shd_collate_fn)

batch = next(iter(train_loader))
print(type(batch['spike_times']), len(batch['spike_times']))
print(batch['label'].shape)

**This function transforms raw spike timing and unit data into a 3D tensor representation suitable for input into a Spiking Neural Network (SNN).**

**Output: **

A tensor ready for SNN input with shape [timesteps, batch_size, input_size].
# Convert Spikes into a Tensor Format for Model Input

def convert_to_spike_tensor(spike_times, spike_units, batch_size, input_size, duration, dt):
    timesteps = int(duration / dt)
    spike_tensor = torch.zeros((timesteps, batch_size, input_size), dtype=torch.float32)

    for b in range(len(spike_times)):
        times = spike_times[b]
        units = spike_units[b]
        time_bins = (times / dt).astype(int)

        for t, u in zip(time_bins, units):
            if t < timesteps and u < input_size:
                spike_tensor[t, b, u] = 1.0

    return spike_tensor

**This cell defines a custom SNNModel using the Norse library, which integrates biologically-inspired spiking neuron models into PyTorch.**

Output:
Returns a stacked tensor of output spikes over all time steps.
# Define a Spiking Neural Network Model with Norse

class SNNModel(nn.Module):
    def __init__(self, input_size, hidden_size, output_size):
        super().__init__()
        self.fc1 = nn.Linear(input_size, hidden_size)
        self.lif1 = norse.LIFCell()

        self.fc2 = nn.Linear(hidden_size, output_size)
        self.lif2 = norse.LIFCell()

    def forward(self, x):
        seq_length, batch_size, _ = x.shape
        spk1, mem1 = None, None
        spk2, mem2 = None, None
        output_spikes = []

        for t in range(seq_length):
            z1 = self.fc1(x[t])
            spk1, mem1 = self.lif1(z1, mem1)

            z2 = self.fc2(spk1)
            spk2, mem2 = self.lif2(z2, mem2)

            output_spikes.append(spk2)

        return torch.stack(output_spikes)

**5. Implement and train the first SNN model using Norse**
**This cell sets up everything needed to train the Spiking Neural Network (SNN):**

Device Configuration

Model Initialization

Loss Function

Optimizer
#  Instantiate the Model & Optimizer

device = torch.device("cuda" if torch.cuda.is_available() else "cpu")
print(f"Using device: {device}")

# Adjust hidden_size and output_size to your case if needed
model = SNNModel(input_size=700, hidden_size=128, output_size=20).to(device)

criterion = nn.CrossEntropyLoss()
optimizer = torch.optim.Adam(model.parameters(), lr=0.001)

loss_list = []
**Training the Spiking Neural Network (SNN) Model**:

This section performs model training using the Norse-based spiking neural network (SNN) defined earlier. The training loop runs for 10 epochs and includes the following key steps:

- **Model Preparation:** The model is set to training mode and loss is tracked per epoch.
- **Batch Processing:** Each batch is passed through a custom spike conversion function to generate a 3D tensor representing spike events over time and input units.
- **Forward Pass:** The converted spike tensor is passed through the SNN model, and the output spikes are averaged over time to obtain logits.
- **Loss Computation:** Cross-entropy loss is calculated between predicted logits and ground truth labels.
- **Backpropagation:** The model performs backward propagation and updates weights using the Adam optimizer.
- **Progress Tracking:** The total loss is printed for each epoch, and a decreasing trend indicates successful learning.

**Output:**

The model was trained over 10 epochs.

The loss started at ~763.91 and steadily decreased to ~757.73.

This indicates that the SNN model is learning, and training is working as expected.

The gradual drop in loss reflects improved performance over time.

# Training Loop

num_epochs = 10

for epoch in range(num_epochs):
    model.train()
    total_loss = 0

    for batch in train_loader:
        spike_tensor = convert_to_spike_tensor(
            spike_times=batch['spike_times'],
            spike_units=batch['spike_units'],
            batch_size=len(batch['spike_times']),
            input_size=700,
            duration=100.0,
            dt=1.0
        ).to(device)

        labels = batch['label'].to(device)

        # Forward pass
        outputs = model(spike_tensor)
        logits = outputs.mean(dim=0)  # Average over time

        # Compute loss and backprop
        loss = criterion(logits, labels)
        optimizer.zero_grad()
        loss.backward()
        optimizer.step()

        total_loss += loss.item()

    print(f"Epoch {epoch+1}/{num_epochs} - Loss: {total_loss:.4f}")


torch.save(model.state_dict(), "norse_snn_model.pth")
loss_list = [
    763.9119,
    763.9119,
    763.8953,
    763.6119,
    762.8166,
    761.9438,
    760.8495,
    759.7484,
    758.6771,
    757.7340
]
**6. Analyze initial results and log performance metrics**
**Visualize Training Loss Over Epochs**:

This plot provides a visual representation of how the model's loss changed across training epochs. A downward trend in the loss indicates that the model is learning effectively and improving its predictions over time.

**Output Explanation:**

The line plot shows training loss over 10 epochs.

Each dot (o) represents the total loss at the end of one epoch.

The loss value decreases gradually, from around 763.9 to 757.7 by the 10th epoch.

This decline confirms that your Norse SNN model is learning, even if slowly.

The learning curve appears smooth and consistent, which is a good sign (no overfitting or spikes).

**This loop completes Phase 1 of the project by training the first SNN model on the SHD dataset.**



import matplotlib.pyplot as plt

plt.plot(range(1, 11), loss_list, marker='o', linestyle='-')
plt.title("Training Loss Over Time (Norse SNN Model)")
plt.xlabel("Epoch")
plt.ylabel("Loss")
plt.grid(True)
plt.xticks(range(1, 11))
plt.show()

v
=======
{
  "cells": [
    {
      "cell_type": "code",
      "execution_count": null,
      "metadata": {
        "id": "vaPRdI4Hi4y7"
      },
      "outputs": [],
      "source": [
        "# DS677-Group Project\n",
        "\n",
        "# Phase 1: Dataset Preparation & Model Implementation:\n",
        "\n",
        "# 1. Finalize dataset selection and preprocessing pipeline\n",
        "# 2. Implement PyTorch DataLoader for efficient data handling\n",
        "# 3. Explore dataset visualization and feature extraction\n",
        "# 4. Investigate suitable SNN architectures\n",
        "# 5. Implement and train the first SNN model using Norse\n",
        "# 6. Analyze initial results and log performance metrics\n"
      ]
    },
    {
      "cell_type": "code",
      "source": [
        "!pip install norse\n"
      ],
      "metadata": {
        "colab": {
          "base_uri": "https://localhost:8080/"
        },
        "collapsed": true,
        "id": "Fagf1FmyErKv",
        "outputId": "168f3d79-6abf-4398-a47d-bd0329d490bd"
      },
      "execution_count": null,
      "outputs": [
        {
          "output_type": "stream",
          "name": "stdout",
          "text": [
            "Collecting norse\n",
            "  Downloading norse-1.1.0.tar.gz (1.5 MB)\n",
            "\u001b[?25l     \u001b[90m━━━━━━━━━━━━━━━━━━━━━━━━━━━━━━━━━━━━━━━━\u001b[0m \u001b[32m0.0/1.5 MB\u001b[0m \u001b[31m?\u001b[0m eta \u001b[36m-:--:--\u001b[0m\r\u001b[2K     \u001b[91m━━━━━━━━━━━━━━━━━━━━━━━━━━━━━━━━━━━━━━━\u001b[0m\u001b[91m╸\u001b[0m \u001b[32m1.5/1.5 MB\u001b[0m \u001b[31m62.9 MB/s\u001b[0m eta \u001b[36m0:00:01\u001b[0m\r\u001b[2K     \u001b[90m━━━━━━━━━━━━━━━━━━━━━━━━━━━━━━━━━━━━━━━━\u001b[0m \u001b[32m1.5/1.5 MB\u001b[0m \u001b[31m37.4 MB/s\u001b[0m eta \u001b[36m0:00:00\u001b[0m\n",
            "\u001b[?25h  Installing build dependencies ... \u001b[?25l\u001b[?25hdone\n",
            "  Getting requirements to build wheel ... \u001b[?25l\u001b[?25hdone\n",
            "  Preparing metadata (pyproject.toml) ... \u001b[?25l\u001b[?25hdone\n",
            "Requirement already satisfied: numpy in /usr/local/lib/python3.11/dist-packages (from norse) (2.0.2)\n",
            "Requirement already satisfied: torch>=2.0.0 in /usr/local/lib/python3.11/dist-packages (from norse) (2.6.0+cu124)\n",
            "Requirement already satisfied: torchvision>=0.15.0 in /usr/local/lib/python3.11/dist-packages (from norse) (0.21.0+cu124)\n",
            "Collecting nir (from norse)\n",
            "  Downloading nir-1.0.4-py3-none-any.whl.metadata (5.8 kB)\n",
            "Collecting nirtorch (from norse)\n",
            "  Downloading nirtorch-2.0.2-py3-none-any.whl.metadata (6.4 kB)\n",
            "Requirement already satisfied: filelock in /usr/local/lib/python3.11/dist-packages (from torch>=2.0.0->norse) (3.18.0)\n",
            "Requirement already satisfied: typing-extensions>=4.10.0 in /usr/local/lib/python3.11/dist-packages (from torch>=2.0.0->norse) (4.12.2)\n",
            "Requirement already satisfied: networkx in /usr/local/lib/python3.11/dist-packages (from torch>=2.0.0->norse) (3.4.2)\n",
            "Requirement already satisfied: jinja2 in /usr/local/lib/python3.11/dist-packages (from torch>=2.0.0->norse) (3.1.6)\n",
            "Requirement already satisfied: fsspec in /usr/local/lib/python3.11/dist-packages (from torch>=2.0.0->norse) (2025.3.0)\n",
            "Collecting nvidia-cuda-nvrtc-cu12==12.4.127 (from torch>=2.0.0->norse)\n",
            "  Downloading nvidia_cuda_nvrtc_cu12-12.4.127-py3-none-manylinux2014_x86_64.whl.metadata (1.5 kB)\n",
            "Collecting nvidia-cuda-runtime-cu12==12.4.127 (from torch>=2.0.0->norse)\n",
            "  Downloading nvidia_cuda_runtime_cu12-12.4.127-py3-none-manylinux2014_x86_64.whl.metadata (1.5 kB)\n",
            "Collecting nvidia-cuda-cupti-cu12==12.4.127 (from torch>=2.0.0->norse)\n",
            "  Downloading nvidia_cuda_cupti_cu12-12.4.127-py3-none-manylinux2014_x86_64.whl.metadata (1.6 kB)\n",
            "Collecting nvidia-cudnn-cu12==9.1.0.70 (from torch>=2.0.0->norse)\n",
            "  Downloading nvidia_cudnn_cu12-9.1.0.70-py3-none-manylinux2014_x86_64.whl.metadata (1.6 kB)\n",
            "Collecting nvidia-cublas-cu12==12.4.5.8 (from torch>=2.0.0->norse)\n",
            "  Downloading nvidia_cublas_cu12-12.4.5.8-py3-none-manylinux2014_x86_64.whl.metadata (1.5 kB)\n",
            "Collecting nvidia-cufft-cu12==11.2.1.3 (from torch>=2.0.0->norse)\n",
            "  Downloading nvidia_cufft_cu12-11.2.1.3-py3-none-manylinux2014_x86_64.whl.metadata (1.5 kB)\n",
            "Collecting nvidia-curand-cu12==10.3.5.147 (from torch>=2.0.0->norse)\n",
            "  Downloading nvidia_curand_cu12-10.3.5.147-py3-none-manylinux2014_x86_64.whl.metadata (1.5 kB)\n",
            "Collecting nvidia-cusolver-cu12==11.6.1.9 (from torch>=2.0.0->norse)\n",
            "  Downloading nvidia_cusolver_cu12-11.6.1.9-py3-none-manylinux2014_x86_64.whl.metadata (1.6 kB)\n",
            "Collecting nvidia-cusparse-cu12==12.3.1.170 (from torch>=2.0.0->norse)\n",
            "  Downloading nvidia_cusparse_cu12-12.3.1.170-py3-none-manylinux2014_x86_64.whl.metadata (1.6 kB)\n",
            "Requirement already satisfied: nvidia-cusparselt-cu12==0.6.2 in /usr/local/lib/python3.11/dist-packages (from torch>=2.0.0->norse) (0.6.2)\n",
            "Requirement already satisfied: nvidia-nccl-cu12==2.21.5 in /usr/local/lib/python3.11/dist-packages (from torch>=2.0.0->norse) (2.21.5)\n",
            "Requirement already satisfied: nvidia-nvtx-cu12==12.4.127 in /usr/local/lib/python3.11/dist-packages (from torch>=2.0.0->norse) (12.4.127)\n",
            "Collecting nvidia-nvjitlink-cu12==12.4.127 (from torch>=2.0.0->norse)\n",
            "  Downloading nvidia_nvjitlink_cu12-12.4.127-py3-none-manylinux2014_x86_64.whl.metadata (1.5 kB)\n",
            "Requirement already satisfied: triton==3.2.0 in /usr/local/lib/python3.11/dist-packages (from torch>=2.0.0->norse) (3.2.0)\n",
            "Requirement already satisfied: sympy==1.13.1 in /usr/local/lib/python3.11/dist-packages (from torch>=2.0.0->norse) (1.13.1)\n",
            "Requirement already satisfied: mpmath<1.4,>=1.1.0 in /usr/local/lib/python3.11/dist-packages (from sympy==1.13.1->torch>=2.0.0->norse) (1.3.0)\n",
            "Requirement already satisfied: pillow!=8.3.*,>=5.3.0 in /usr/local/lib/python3.11/dist-packages (from torchvision>=0.15.0->norse) (11.1.0)\n",
            "Requirement already satisfied: h5py in /usr/local/lib/python3.11/dist-packages (from nir->norse) (3.13.0)\n",
            "Requirement already satisfied: MarkupSafe>=2.0 in /usr/local/lib/python3.11/dist-packages (from jinja2->torch>=2.0.0->norse) (3.0.2)\n",
            "Downloading nvidia_cublas_cu12-12.4.5.8-py3-none-manylinux2014_x86_64.whl (363.4 MB)\n",
            "\u001b[2K   \u001b[90m━━━━━━━━━━━━━━━━━━━━━━━━━━━━━━━━━━━━━━━━\u001b[0m \u001b[32m363.4/363.4 MB\u001b[0m \u001b[31m1.4 MB/s\u001b[0m eta \u001b[36m0:00:00\u001b[0m\n",
            "\u001b[?25hDownloading nvidia_cuda_cupti_cu12-12.4.127-py3-none-manylinux2014_x86_64.whl (13.8 MB)\n",
            "\u001b[2K   \u001b[90m━━━━━━━━━━━━━━━━━━━━━━━━━━━━━━━━━━━━━━━━\u001b[0m \u001b[32m13.8/13.8 MB\u001b[0m \u001b[31m111.4 MB/s\u001b[0m eta \u001b[36m0:00:00\u001b[0m\n",
            "\u001b[?25hDownloading nvidia_cuda_nvrtc_cu12-12.4.127-py3-none-manylinux2014_x86_64.whl (24.6 MB)\n",
            "\u001b[2K   \u001b[90m━━━━━━━━━━━━━━━━━━━━━━━━━━━━━━━━━━━━━━━━\u001b[0m \u001b[32m24.6/24.6 MB\u001b[0m \u001b[31m75.3 MB/s\u001b[0m eta \u001b[36m0:00:00\u001b[0m\n",
            "\u001b[?25hDownloading nvidia_cuda_runtime_cu12-12.4.127-py3-none-manylinux2014_x86_64.whl (883 kB)\n",
            "\u001b[2K   \u001b[90m━━━━━━━━━━━━━━━━━━━━━━━━━━━━━━━━━━━━━━━━\u001b[0m \u001b[32m883.7/883.7 kB\u001b[0m \u001b[31m49.3 MB/s\u001b[0m eta \u001b[36m0:00:00\u001b[0m\n",
            "\u001b[?25hDownloading nvidia_cudnn_cu12-9.1.0.70-py3-none-manylinux2014_x86_64.whl (664.8 MB)\n",
            "\u001b[2K   \u001b[90m━━━━━━━━━━━━━━━━━━━━━━━━━━━━━━━━━━━━━━━━\u001b[0m \u001b[32m664.8/664.8 MB\u001b[0m \u001b[31m2.0 MB/s\u001b[0m eta \u001b[36m0:00:00\u001b[0m\n",
            "\u001b[?25hDownloading nvidia_cufft_cu12-11.2.1.3-py3-none-manylinux2014_x86_64.whl (211.5 MB)\n",
            "\u001b[2K   \u001b[90m━━━━━━━━━━━━━━━━━━━━━━━━━━━━━━━━━━━━━━━━\u001b[0m \u001b[32m211.5/211.5 MB\u001b[0m \u001b[31m5.9 MB/s\u001b[0m eta \u001b[36m0:00:00\u001b[0m\n",
            "\u001b[?25hDownloading nvidia_curand_cu12-10.3.5.147-py3-none-manylinux2014_x86_64.whl (56.3 MB)\n",
            "\u001b[2K   \u001b[90m━━━━━━━━━━━━━━━━━━━━━━━━━━━━━━━━━━━━━━━━\u001b[0m \u001b[32m56.3/56.3 MB\u001b[0m \u001b[31m12.7 MB/s\u001b[0m eta \u001b[36m0:00:00\u001b[0m\n",
            "\u001b[?25hDownloading nvidia_cusolver_cu12-11.6.1.9-py3-none-manylinux2014_x86_64.whl (127.9 MB)\n",
            "\u001b[2K   \u001b[90m━━━━━━━━━━━━━━━━━━━━━━━━━━━━━━━━━━━━━━━━\u001b[0m \u001b[32m127.9/127.9 MB\u001b[0m \u001b[31m7.6 MB/s\u001b[0m eta \u001b[36m0:00:00\u001b[0m\n",
            "\u001b[?25hDownloading nvidia_cusparse_cu12-12.3.1.170-py3-none-manylinux2014_x86_64.whl (207.5 MB)\n",
            "\u001b[2K   \u001b[90m━━━━━━━━━━━━━━━━━━━━━━━━━━━━━━━━━━━━━━━━\u001b[0m \u001b[32m207.5/207.5 MB\u001b[0m \u001b[31m5.9 MB/s\u001b[0m eta \u001b[36m0:00:00\u001b[0m\n",
            "\u001b[?25hDownloading nvidia_nvjitlink_cu12-12.4.127-py3-none-manylinux2014_x86_64.whl (21.1 MB)\n",
            "\u001b[2K   \u001b[90m━━━━━━━━━━━━━━━━━━━━━━━━━━━━━━━━━━━━━━━━\u001b[0m \u001b[32m21.1/21.1 MB\u001b[0m \u001b[31m85.8 MB/s\u001b[0m eta \u001b[36m0:00:00\u001b[0m\n",
            "\u001b[?25hDownloading nir-1.0.4-py3-none-any.whl (18 kB)\n",
            "Downloading nirtorch-2.0.2-py3-none-any.whl (23 kB)\n",
            "Building wheels for collected packages: norse\n",
            "  Building wheel for norse (pyproject.toml) ... \u001b[?25l\u001b[?25hdone\n",
            "  Created wheel for norse: filename=norse-1.1.0-py3-none-any.whl size=1539055 sha256=1c278b44a54e641ab7112b2b441613d3010897cede1aaa485d7d0335a64ec9c0\n",
            "  Stored in directory: /root/.cache/pip/wheels/2f/aa/7b/73285c582f07c47ad755bcaa0b8e18c13ace00e819e0c87c78\n",
            "Successfully built norse\n",
            "Installing collected packages: nvidia-nvjitlink-cu12, nvidia-curand-cu12, nvidia-cufft-cu12, nvidia-cuda-runtime-cu12, nvidia-cuda-nvrtc-cu12, nvidia-cuda-cupti-cu12, nvidia-cublas-cu12, nvidia-cusparse-cu12, nvidia-cudnn-cu12, nir, nvidia-cusolver-cu12, nirtorch, norse\n",
            "  Attempting uninstall: nvidia-nvjitlink-cu12\n",
            "    Found existing installation: nvidia-nvjitlink-cu12 12.5.82\n",
            "    Uninstalling nvidia-nvjitlink-cu12-12.5.82:\n",
            "      Successfully uninstalled nvidia-nvjitlink-cu12-12.5.82\n",
            "  Attempting uninstall: nvidia-curand-cu12\n",
            "    Found existing installation: nvidia-curand-cu12 10.3.6.82\n",
            "    Uninstalling nvidia-curand-cu12-10.3.6.82:\n",
            "      Successfully uninstalled nvidia-curand-cu12-10.3.6.82\n",
            "  Attempting uninstall: nvidia-cufft-cu12\n",
            "    Found existing installation: nvidia-cufft-cu12 11.2.3.61\n",
            "    Uninstalling nvidia-cufft-cu12-11.2.3.61:\n",
            "      Successfully uninstalled nvidia-cufft-cu12-11.2.3.61\n",
            "  Attempting uninstall: nvidia-cuda-runtime-cu12\n",
            "    Found existing installation: nvidia-cuda-runtime-cu12 12.5.82\n",
            "    Uninstalling nvidia-cuda-runtime-cu12-12.5.82:\n",
            "      Successfully uninstalled nvidia-cuda-runtime-cu12-12.5.82\n",
            "  Attempting uninstall: nvidia-cuda-nvrtc-cu12\n",
            "    Found existing installation: nvidia-cuda-nvrtc-cu12 12.5.82\n",
            "    Uninstalling nvidia-cuda-nvrtc-cu12-12.5.82:\n",
            "      Successfully uninstalled nvidia-cuda-nvrtc-cu12-12.5.82\n",
            "  Attempting uninstall: nvidia-cuda-cupti-cu12\n",
            "    Found existing installation: nvidia-cuda-cupti-cu12 12.5.82\n",
            "    Uninstalling nvidia-cuda-cupti-cu12-12.5.82:\n",
            "      Successfully uninstalled nvidia-cuda-cupti-cu12-12.5.82\n",
            "  Attempting uninstall: nvidia-cublas-cu12\n",
            "    Found existing installation: nvidia-cublas-cu12 12.5.3.2\n",
            "    Uninstalling nvidia-cublas-cu12-12.5.3.2:\n",
            "      Successfully uninstalled nvidia-cublas-cu12-12.5.3.2\n",
            "  Attempting uninstall: nvidia-cusparse-cu12\n",
            "    Found existing installation: nvidia-cusparse-cu12 12.5.1.3\n",
            "    Uninstalling nvidia-cusparse-cu12-12.5.1.3:\n",
            "      Successfully uninstalled nvidia-cusparse-cu12-12.5.1.3\n",
            "  Attempting uninstall: nvidia-cudnn-cu12\n",
            "    Found existing installation: nvidia-cudnn-cu12 9.3.0.75\n",
            "    Uninstalling nvidia-cudnn-cu12-9.3.0.75:\n",
            "      Successfully uninstalled nvidia-cudnn-cu12-9.3.0.75\n",
            "  Attempting uninstall: nvidia-cusolver-cu12\n",
            "    Found existing installation: nvidia-cusolver-cu12 11.6.3.83\n",
            "    Uninstalling nvidia-cusolver-cu12-11.6.3.83:\n",
            "      Successfully uninstalled nvidia-cusolver-cu12-11.6.3.83\n",
            "Successfully installed nir-1.0.4 nirtorch-2.0.2 norse-1.1.0 nvidia-cublas-cu12-12.4.5.8 nvidia-cuda-cupti-cu12-12.4.127 nvidia-cuda-nvrtc-cu12-12.4.127 nvidia-cuda-runtime-cu12-12.4.127 nvidia-cudnn-cu12-9.1.0.70 nvidia-cufft-cu12-11.2.1.3 nvidia-curand-cu12-10.3.5.147 nvidia-cusolver-cu12-11.6.1.9 nvidia-cusparse-cu12-12.3.1.170 nvidia-nvjitlink-cu12-12.4.127\n"
          ]
        }
      ]
    },
    {
      "cell_type": "code",
      "execution_count": null,
      "metadata": {
        "collapsed": true,
        "id": "XWnStNMSjnzX"
      },
      "outputs": [],
      "source": [
        "# Import Required Libraries\n",
        "\n",
        "import torch\n",
        "import torch.nn as nn\n",
        "import torch.nn.functional as F\n",
        "from torch.utils.data import Dataset, DataLoader\n",
        "import h5py\n",
        "import numpy as np\n",
        "\n",
        "# Norse for spiking models\n",
        "import norse.torch as norse"
      ]
    },
    {
      "cell_type": "code",
      "execution_count": null,
      "metadata": {
        "colab": {
          "base_uri": "https://localhost:8080/"
        },
        "id": "rChNp3Zli8wu",
        "outputId": "71b6c325-3cfa-428d-dd24-a6283448f2fd"
      },
      "outputs": [
        {
          "output_type": "stream",
          "name": "stdout",
          "text": [
            "Using device: cuda\n"
          ]
        }
      ],
      "source": [
        "# Set device (GPU if available)\n",
        "device = torch.device(\"cuda\" if torch.cuda.is_available() else \"cpu\")\n",
        "print(\"Using device:\", device)"
      ]
    },
    {
      "cell_type": "markdown",
      "source": [
        "**1. Finalize dataset selection and preprocessing pipeline**"
      ],
      "metadata": {
        "id": "74YqnAwXzCsC"
      }
    },
    {
      "cell_type": "markdown",
      "source": [
        "**Download SHD Dataset:**\n",
        "\n",
        "This step downloads the Spiking Heidelberg Digits (SHD) dataset directly into the working directory using wget. It includes:\n",
        "\n",
        "shd_train.h5.gz: The compressed training dataset\n",
        "\n",
        "shd_test.h5.gz: The compressed testing dataset\n",
        "\n",
        "These files are required for loading and preprocessing spike-based neural data in later steps."
      ],
      "metadata": {
        "id": "3m9lYJWBn_-3"
      }
    },
    {
      "cell_type": "code",
      "execution_count": null,
      "metadata": {
        "colab": {
          "base_uri": "https://localhost:8080/"
        },
        "collapsed": true,
        "id": "_0aYTszdqyHY",
        "outputId": "95f25888-6028-4e16-b8f1-40bfe56747f0"
      },
      "outputs": [
        {
          "output_type": "stream",
          "name": "stdout",
          "text": [
            "--2025-03-28 17:40:06--  https://compneuro.net/datasets/shd_train.h5.gz\n",
            "Resolving compneuro.net (compneuro.net)... 88.198.116.88\n",
            "Connecting to compneuro.net (compneuro.net)|88.198.116.88|:443... connected.\n",
            "HTTP request sent, awaiting response... 200 OK\n",
            "Length: 130839480 (125M) [application/x-gzip]\n",
            "Saving to: ‘/content/shd_train.h5.gz’\n",
            "\n",
            "/content/shd_train. 100%[===================>] 124.78M  61.5MB/s    in 2.0s    \n",
            "\n",
            "2025-03-28 17:40:08 (61.5 MB/s) - ‘/content/shd_train.h5.gz’ saved [130839480/130839480]\n",
            "\n",
            "--2025-03-28 17:40:08--  https://compneuro.net/datasets/shd_test.h5.gz\n",
            "Resolving compneuro.net (compneuro.net)... 88.198.116.88\n",
            "Connecting to compneuro.net (compneuro.net)|88.198.116.88|:443... connected.\n",
            "HTTP request sent, awaiting response... 200 OK\n",
            "Length: 38137408 (36M) [application/x-gzip]\n",
            "Saving to: ‘/content/shd_test.h5.gz’\n",
            "\n",
            "/content/shd_test.h 100%[===================>]  36.37M  51.5MB/s    in 0.7s    \n",
            "\n",
            "2025-03-28 17:40:09 (51.5 MB/s) - ‘/content/shd_test.h5.gz’ saved [38137408/38137408]\n",
            "\n"
          ]
        }
      ],
      "source": [
        "# Download SHD training and test sets directly into /content/\n",
        "!wget -O /content/shd_train.h5.gz https://compneuro.net/datasets/shd_train.h5.gz\n",
        "!wget -O /content/shd_test.h5.gz https://compneuro.net/datasets/shd_test.h5.gz\n"
      ]
    },
    {
      "cell_type": "markdown",
      "source": [
        "**Load and Inspect SHD Dataset Structure**\n",
        "This block performs three key tasks:\n",
        "\n",
        "**1. Confirms File Access:**\n",
        "Opens the shd_train.h5 file to verify that it exists and displays its top-level keys.\n",
        "Expected keys: 'extra', 'labels', and 'spikes'.\n",
        "\n",
        "**2. Inspects Data Structure:**\n",
        "Displays the keys under 'spikes' to check how spike data is stored ('times', 'units').\n",
        "Verifies that 'labels' contains 8156 samples, confirming the dataset size.\n",
        "\n",
        "**3. Loads Data into Memory:**\n",
        "Extracts the spike times, spike units, and labels from the HDF5 file for further processing and training."
      ],
      "metadata": {
        "id": "35O_8HWCoY6U"
      }
    },
    {
      "cell_type": "code",
      "execution_count": null,
      "metadata": {
        "colab": {
          "base_uri": "https://localhost:8080/"
        },
        "id": "izRC3pb1myJu",
        "outputId": "c24e1d48-5955-4f79-b0e3-d2767fa360a8"
      },
      "outputs": [
        {
          "output_type": "stream",
          "name": "stdout",
          "text": [
            "Available keys: ['extra', 'labels', 'spikes']\n",
            "Spikes group keys: ['times', 'units']\n",
            "Labels dataset shape: (8156,)\n"
          ]
        }
      ],
      "source": [
        "# Confirms the file is loaded correctly\n",
        "\n",
        "file_path = '/content/shd_train.h5'\n",
        "with h5py.File(file_path, 'r') as f:\n",
        "    print(\"Available keys:\", list(f.keys()))\n",
        "\n",
        "# Confirms the label shape → 8156, indicating number of samples\n",
        "\n",
        "with h5py.File(file_path, 'r') as f:\n",
        "    print(\"Spikes group keys:\", list(f['spikes'].keys()))\n",
        "    print(\"Labels dataset shape:\", f['labels'].shape)\n",
        "\n",
        "# Loads the data into memory\n",
        "\n",
        "with h5py.File(file_path, 'r') as f:\n",
        "    spikes_times = f['spikes']['times'][:]\n",
        "    spikes_units = f['spikes']['units'][:]\n",
        "    labels = f['labels'][:]\n"
      ]
    },
    {
      "cell_type": "markdown",
      "source": [
        "**2. Implement PyTorch DataLoader for efficient data handling**"
      ],
      "metadata": {
        "id": "SsrL158jzWxr"
      }
    },
    {
      "cell_type": "markdown",
      "source": [
        "**This custom SHDDataset class allows integration of the Spiking Heidelberg Digits (SHD) dataset into a PyTorch pipeline:**"
      ],
      "metadata": {
        "id": "IhGMD4BQpTam"
      }
    },
    {
      "cell_type": "code",
      "source": [
        "# Define Custom Dataset Loader\n",
        "\n",
        "class SHDDataset(Dataset):\n",
        "    def __init__(self, file_path):\n",
        "        self.file = h5py.File(file_path, 'r')\n",
        "        self.spike_times = self.file['times']\n",
        "        self.spike_units = self.file['spikes']\n",
        "        self.labels = self.file['labels']\n",
        "\n",
        "    def __len__(self):\n",
        "        return len(self.labels)\n",
        "\n",
        "    def __getitem__(self, idx):\n",
        "        return {\n",
        "            'spike_times': self.spike_times[idx],\n",
        "            'spike_units': self.spike_units[idx],\n",
        "            'label': self.labels[idx]\n",
        "        }\n"
      ],
      "metadata": {
        "id": "zetYKlUBmG0V"
      },
      "execution_count": null,
      "outputs": []
    },
    {
      "cell_type": "markdown",
      "source": [
        "**3. Explore dataset visualization and feature extraction**"
      ],
      "metadata": {
        "id": "mk5S2kSyzhaU"
      }
    },
    {
      "cell_type": "markdown",
      "source": [
        "**This shd_collate_fn function is designed to help PyTorch’s DataLoader handle variable-length spiking data sequences.**"
      ],
      "metadata": {
        "id": "JqOL7it9p87s"
      }
    },
    {
      "cell_type": "code",
      "source": [
        "# Define a Custom Collate Function for Uneven Sequences\n",
        "\n",
        "def shd_collate_fn(batch):\n",
        "    spike_times = [item['spike_times'] for item in batch]\n",
        "    spike_units = [item['spike_units'] for item in batch]\n",
        "    labels = torch.tensor([item['label'] for item in batch], dtype=torch.long)\n",
        "\n",
        "    return {\n",
        "        'spike_times': spike_times,\n",
        "        'spike_units': spike_units,\n",
        "        'label': labels\n",
        "    }\n"
      ],
      "metadata": {
        "id": "Snp7KuabmG-_"
      },
      "execution_count": null,
      "outputs": []
    },
    {
      "cell_type": "markdown",
      "source": [
        "**This function convert_to_spike_tensor transforms raw spike event data (times and units) into a 3D PyTorch tensor format suitable for feeding into a spiking neural network (SNN).**"
      ],
      "metadata": {
        "id": "84Yc5p8hqOt2"
      }
    },
    {
      "cell_type": "code",
      "source": [
        "# Convert Spikes to a Tensor\n",
        "\n",
        "def convert_to_spike_tensor(spike_times, spike_units, batch_size, input_size, duration, dt):\n",
        "    timesteps = int(duration / dt)\n",
        "    spike_tensor = torch.zeros((timesteps, batch_size, input_size), dtype=torch.float32)\n",
        "\n",
        "    for b in range(batch_size):\n",
        "        times = spike_times[b]\n",
        "        units = spike_units[b]\n",
        "        time_bins = (times / dt).astype(int)\n",
        "\n",
        "        for t, u in zip(time_bins, units):\n",
        "            if t < timesteps and u < input_size:\n",
        "                spike_tensor[t, b, u] = 1.0\n",
        "    return spike_tensor\n"
      ],
      "metadata": {
        "id": "_kYq02Q4mV4g"
      },
      "execution_count": null,
      "outputs": []
    },
    {
      "cell_type": "markdown",
      "source": [
        "**4.  Investigate suitable SNN architectures**"
      ],
      "metadata": {
        "id": "5_gh8T5izpzM"
      }
    },
    {
      "cell_type": "markdown",
      "source": [
        "**This SimpleSNN class defines a basic two-layer spiking neural network leveraging the Norse library, which integrates biologically inspired spiking neuron models into PyTorch.**\n",
        "\n",
        "**Norse enables temporal dynamics in neurons, allowing this model to learn from the timing of spikes, not just their count — essential for working with spiking datasets like SHD.**\n",
        "**bold text**\n"
      ],
      "metadata": {
        "id": "lm2Ry7AGqYsd"
      }
    },
    {
      "cell_type": "code",
      "source": [
        "# Define the SNN Model with Norse\n",
        "\n",
        "class SimpleSNN(nn.Module):\n",
        "    def __init__(self):\n",
        "        super().__init__()\n",
        "        self.fc1 = nn.Linear(700, 128)\n",
        "        self.lif1 = norse.LIFCell()\n",
        "        self.fc2 = nn.Linear(128, 20)  # 20 output classes\n",
        "        self.lif2 = norse.LIFCell()\n",
        "\n",
        "    def forward(self, x):\n",
        "        seq_length, batch_size, _ = x.shape\n",
        "        lif1_state = self.lif1.state\n",
        "        lif2_state = self.lif2.state\n",
        "        outputs = []\n",
        "\n",
        "        for t in range(seq_length):\n",
        "            z = self.fc1(x[t])\n",
        "            z, lif1_state = self.lif1(z, lif1_state)\n",
        "            z = self.fc2(z)\n",
        "            z, lif2_state = self.lif2(z, lif2_state)\n",
        "            outputs.append(z)\n",
        "\n",
        "        return torch.stack(outputs)\n"
      ],
      "metadata": {
        "id": "nhybZTCtmV7e"
      },
      "execution_count": null,
      "outputs": []
    },
    {
      "cell_type": "markdown",
      "source": [
        "**This cell opens the SHD training file using h5py and explores the 'spikes' group, which contains the spiking event data for all samples.**"
      ],
      "metadata": {
        "id": "mS6vC5z-rDNP"
      }
    },
    {
      "cell_type": "code",
      "source": [
        "with h5py.File('/content/shd_train.h5', 'r') as f:\n",
        "    spike_group = f['spikes']\n",
        "    keys = list(spike_group.keys())\n",
        "    print(\"First 10 keys in spikes group:\", keys[:10])\n"
      ],
      "metadata": {
        "colab": {
          "base_uri": "https://localhost:8080/"
        },
        "id": "Va4HKvXXpnqP",
        "outputId": "cbeab1d4-d108-41f4-c8c6-e508f78ac17e"
      },
      "execution_count": null,
      "outputs": [
        {
          "output_type": "stream",
          "name": "stdout",
          "text": [
            "First 10 keys in spikes group: ['times', 'units']\n"
          ]
        }
      ]
    },
    {
      "cell_type": "markdown",
      "source": [
        "**This cell defines a custom SHDDataset class, which extends PyTorch's Dataset # interface. It allows efficient indexed access to the SHD dataset stored in HDF5 format, and converts: 'spikes' into a PyTorch tensor of spike data 'label' into a PyTorch tensor of class labels.\n",
        "This class is required for integration with DataLoader in PyTorch.**"
      ],
      "metadata": {
        "id": "02D6H1uerclD"
      }
    },
    {
      "cell_type": "code",
      "source": [
        "# Custom Dataset Class for SHD (.h5) File\n",
        "\n",
        "class SHDDataset(Dataset):\n",
        "    def __init__(self, file_path):\n",
        "        self.file_path = file_path\n",
        "        with h5py.File(file_path, 'r') as f:\n",
        "            self.length = len(f['spikes'].keys())\n",
        "            self.keys = list(f['spikes'].keys())\n",
        "            self.labels = f['labels'][:]\n",
        "\n",
        "    def __len__(self):\n",
        "        return self.length\n",
        "\n",
        "    def __getitem__(self, idx):\n",
        "        with h5py.File(self.file_path, 'r') as f:\n",
        "            key = self.keys[idx]\n",
        "            spike_data = f['spikes'][key][:]\n",
        "            label = self.labels[idx]\n",
        "        return {\n",
        "            'spikes': torch.tensor(spike_data, dtype=torch.float32),\n",
        "            'label': torch.tensor(label, dtype=torch.long)\n",
        "        }\n"
      ],
      "metadata": {
        "id": "tT0-wbolqCMN"
      },
      "execution_count": null,
      "outputs": []
    },
    {
      "cell_type": "markdown",
      "source": [
        "**This code loads the core spiking data from the SHD dataset:**\n",
        "\n",
        "f['spikes']['times'][:] loads the spike timing information (when each spike occurred).\n",
        "\n",
        "f['spikes']['units'][:] loads the spike unit/neuron identifiers (which neuron fired).\n",
        "\n",
        "f['labels'][:] loads the class labels (spoken digit for each sample).\n",
        "\n",
        "\n",
        "**Outputs:**\n",
        "\n",
        "Each of these arrays has shape (8156,), meaning the dataset contains 8156 spike events and corresponding labels — confirming consistency across features and targets."
      ],
      "metadata": {
        "id": "tM4IVJhWrrYO"
      }
    },
    {
      "cell_type": "code",
      "source": [
        "# Extract and Inspect 'times' and 'units' Data\n",
        "\n",
        "file_path = '/content/shd_train.h5'\n",
        "\n",
        "with h5py.File(file_path, 'r') as f:\n",
        "    times = f['spikes']['times'][:]\n",
        "    units = f['spikes']['units'][:]\n",
        "    labels = f['labels'][:]\n",
        "\n",
        "print(f\"Times shape: {times.shape}\")\n",
        "print(f\"Units shape: {units.shape}\")\n",
        "print(f\"Labels shape: {labels.shape}\")\n"
      ],
      "metadata": {
        "colab": {
          "base_uri": "https://localhost:8080/"
        },
        "id": "cB3lKXjmpQ5W",
        "outputId": "6a1d7527-9e1e-47f8-98a5-3bd9331952ec"
      },
      "execution_count": null,
      "outputs": [
        {
          "output_type": "stream",
          "name": "stdout",
          "text": [
            "Times shape: (8156,)\n",
            "Units shape: (8156,)\n",
            "Labels shape: (8156,)\n"
          ]
        }
      ]
    },
    {
      "cell_type": "markdown",
      "source": [
        "**This code defines a reusable custom SHDDataset class that extends PyTorch’s Dataset.**\n",
        "\n",
        "__init__: Loads the spike timing (times), neuron units (units), and labels from the SHD .h5 file into memory.\n",
        "\n",
        "__len__: Returns the number of samples in the dataset (based on number of labels).\n",
        "\n",
        "__getitem__: Allows indexing like dataset[i] to return a dictionary containing:\n",
        "\n",
        "'spike_times'\n",
        "\n",
        "'spike_units'\n",
        "\n",
        "'label'"
      ],
      "metadata": {
        "id": "HHsBBh_asLdc"
      }
    },
    {
      "cell_type": "code",
      "source": [
        "# Wrap It Into a Custom Dataset Class\n",
        "\n",
        "from torch.utils.data import Dataset\n",
        "\n",
        "class SHDDataset(Dataset):\n",
        "    def __init__(self, file_path):\n",
        "        with h5py.File(file_path, 'r') as f:\n",
        "            self.spike_times = f['spikes']['times'][:]\n",
        "            self.spike_units = f['spikes']['units'][:]\n",
        "            self.labels = f['labels'][:]\n",
        "\n",
        "    def __len__(self):\n",
        "        return len(self.labels)\n",
        "\n",
        "    def __getitem__(self, idx):\n",
        "        return {\n",
        "            'spike_times': self.spike_times[idx],\n",
        "            'spike_units': self.spike_units[idx],\n",
        "            'label': self.labels[idx]\n",
        "        }\n"
      ],
      "metadata": {
        "id": "0WN-WlourZAM"
      },
      "execution_count": null,
      "outputs": []
    },
    {
      "cell_type": "markdown",
      "source": [
        "**This shd_collate_fn function is designed for use with a PyTorch DataLoader to collate batches of SHD data where samples have variable spike lengths (common in event-based datasets).**\n",
        "\n",
        "For each batch:\n",
        "\n",
        "spike_times and spike_units are collected as lists (not tensors) because their lengths vary.\n",
        "\n",
        "labels are converted into a fixed-size tensor (1D integer tensor) using torch.tensor(...)."
      ],
      "metadata": {
        "id": "ROB1PJLvsmKT"
      }
    },
    {
      "cell_type": "code",
      "source": [
        "#  Define a Custom Collate Function\n",
        "# This handles batches where each sample might have different spike lengths\n",
        "\n",
        "def shd_collate_fn(batch):\n",
        "    spike_times = [item['spike_times'] for item in batch]\n",
        "    spike_units = [item['spike_units'] for item in batch]\n",
        "    labels = torch.tensor([item['label'] for item in batch], dtype=torch.long)\n",
        "    return {\n",
        "        'spike_times': spike_times,\n",
        "        'spike_units': spike_units,\n",
        "        'label': labels\n",
        "    }\n"
      ],
      "metadata": {
        "id": "tQ2DX6_krZCk"
      },
      "execution_count": null,
      "outputs": []
    },
    {
      "cell_type": "markdown",
      "source": [
        "**In this step, we create a DataLoader to efficiently iterate over the SHD dataset:**\n",
        "\n",
        "**train_dataset:** Created using our custom SHDDataset class which loads spike data and labels from the SHD training file.\n",
        "\n",
        "**train_loader:** Uses PyTorch DataLoader with:\n",
        "\n",
        "- batch_size=32: Fetches 32 samples per batch\n",
        "\n",
        "- shuffle=True: Ensures randomization during each epoch\n",
        "\n",
        "- collate_fn=shd_collate_fn: Custom function to handle variable-length sequences.\n",
        "\n",
        "**Outputs:**\n",
        "\n",
        "The spike_times list has 32 elements → one per sample.\n",
        "\n",
        "The label tensor has shape [32] → corresponding class labels.\n",
        "\n",
        "This confirms our custom dataset and DataLoader are working correctly."
      ],
      "metadata": {
        "id": "SIr-DaLqtPZw"
      }
    },
    {
      "cell_type": "code",
      "source": [
        "# Create DataLoader\n",
        "\n",
        "train_dataset = SHDDataset('/content/shd_train.h5')\n",
        "train_loader = DataLoader(train_dataset, batch_size=32, shuffle=True, collate_fn=shd_collate_fn)\n",
        "\n",
        "batch = next(iter(train_loader))\n",
        "print(type(batch['spike_times']), len(batch['spike_times']))\n",
        "print(batch['label'].shape)\n"
      ],
      "metadata": {
        "colab": {
          "base_uri": "https://localhost:8080/"
        },
        "id": "N5b9Tbvjr0PM",
        "outputId": "a3dfeb4a-8863-4141-f2cd-1ba46e628593"
      },
      "execution_count": null,
      "outputs": [
        {
          "output_type": "stream",
          "name": "stdout",
          "text": [
            "<class 'list'> 32\n",
            "torch.Size([32])\n"
          ]
        }
      ]
    },
    {
      "cell_type": "markdown",
      "source": [
        "**This function transforms raw spike timing and unit data into a 3D tensor representation suitable for input into a Spiking Neural Network (SNN).**\n",
        "\n",
        "**Output: **\n",
        "\n",
        "A tensor ready for SNN input with shape [timesteps, batch_size, input_size]."
      ],
      "metadata": {
        "id": "47Fh6odhuj_j"
      }
    },
    {
      "cell_type": "code",
      "source": [
        "# Convert Spikes into a Tensor Format for Model Input\n",
        "\n",
        "def convert_to_spike_tensor(spike_times, spike_units, batch_size, input_size, duration, dt):\n",
        "    timesteps = int(duration / dt)\n",
        "    spike_tensor = torch.zeros((timesteps, batch_size, input_size), dtype=torch.float32)\n",
        "\n",
        "    for b in range(len(spike_times)):\n",
        "        times = spike_times[b]\n",
        "        units = spike_units[b]\n",
        "        time_bins = (times / dt).astype(int)\n",
        "\n",
        "        for t, u in zip(time_bins, units):\n",
        "            if t < timesteps and u < input_size:\n",
        "                spike_tensor[t, b, u] = 1.0\n",
        "\n",
        "    return spike_tensor\n"
      ],
      "metadata": {
        "id": "cwKrqvBur0SG"
      },
      "execution_count": null,
      "outputs": []
    },
    {
      "cell_type": "markdown",
      "source": [
        "**This cell defines a custom SNNModel using the Norse library, which integrates biologically-inspired spiking neuron models into PyTorch.**\n",
        "\n",
        "Output:\n",
        "Returns a stacked tensor of output spikes over all time steps."
      ],
      "metadata": {
        "id": "KuM2UphOu8jS"
      }
    },
    {
      "cell_type": "code",
      "source": [
        "# Define a Spiking Neural Network Model with Norse\n",
        "\n",
        "class SNNModel(nn.Module):\n",
        "    def __init__(self, input_size, hidden_size, output_size):\n",
        "        super().__init__()\n",
        "        self.fc1 = nn.Linear(input_size, hidden_size)\n",
        "        self.lif1 = norse.LIFCell()\n",
        "\n",
        "        self.fc2 = nn.Linear(hidden_size, output_size)\n",
        "        self.lif2 = norse.LIFCell()\n",
        "\n",
        "    def forward(self, x):\n",
        "        seq_length, batch_size, _ = x.shape\n",
        "        spk1, mem1 = None, None\n",
        "        spk2, mem2 = None, None\n",
        "        output_spikes = []\n",
        "\n",
        "        for t in range(seq_length):\n",
        "            z1 = self.fc1(x[t])\n",
        "            spk1, mem1 = self.lif1(z1, mem1)\n",
        "\n",
        "            z2 = self.fc2(spk1)\n",
        "            spk2, mem2 = self.lif2(z2, mem2)\n",
        "\n",
        "            output_spikes.append(spk2)\n",
        "\n",
        "        return torch.stack(output_spikes)\n"
      ],
      "metadata": {
        "id": "a9oNUpRds_cZ"
      },
      "execution_count": null,
      "outputs": []
    },
    {
      "cell_type": "markdown",
      "source": [
        "**5. Implement and train the first SNN model using Norse**"
      ],
      "metadata": {
        "id": "fz8yYkMO0IPk"
      }
    },
    {
      "cell_type": "markdown",
      "source": [
        "**This cell sets up everything needed to train the Spiking Neural Network (SNN):**\n",
        "\n",
        "Device Configuration\n",
        "\n",
        "Model Initialization\n",
        "\n",
        "Loss Function\n",
        "\n",
        "Optimizer"
      ],
      "metadata": {
        "id": "RfQyG6fkvW2U"
      }
    },
    {
      "cell_type": "code",
      "source": [
        "#  Instantiate the Model & Optimizer\n",
        "\n",
        "device = torch.device(\"cuda\" if torch.cuda.is_available() else \"cpu\")\n",
        "print(f\"Using device: {device}\")\n",
        "\n",
        "# Adjust hidden_size and output_size to your case if needed\n",
        "model = SNNModel(input_size=700, hidden_size=128, output_size=20).to(device)\n",
        "\n",
        "criterion = nn.CrossEntropyLoss()\n",
        "optimizer = torch.optim.Adam(model.parameters(), lr=0.001)\n"
      ],
      "metadata": {
        "colab": {
          "base_uri": "https://localhost:8080/"
        },
        "id": "9XuEQlOFs_h7",
        "outputId": "f7e15ce8-8820-4648-d1eb-24978bff1ac9"
      },
      "execution_count": null,
      "outputs": [
        {
          "output_type": "stream",
          "name": "stdout",
          "text": [
            "Using device: cuda\n"
          ]
        }
      ]
    },
    {
      "cell_type": "code",
      "source": [
        "loss_list = []"
      ],
      "metadata": {
        "id": "jZeBoKX8fO-U"
      },
      "execution_count": null,
      "outputs": []
    },
    {
      "cell_type": "markdown",
      "source": [
        "**Training the Spiking Neural Network (SNN) Model**:\n",
        "\n",
        "This section performs model training using the Norse-based spiking neural network (SNN) defined earlier. The training loop runs for 10 epochs and includes the following key steps:\n",
        "\n",
        "- **Model Preparation:** The model is set to training mode and loss is tracked per epoch.\n",
        "- **Batch Processing:** Each batch is passed through a custom spike conversion function to generate a 3D tensor representing spike events over time and input units.\n",
        "- **Forward Pass:** The converted spike tensor is passed through the SNN model, and the output spikes are averaged over time to obtain logits.\n",
        "- **Loss Computation:** Cross-entropy loss is calculated between predicted logits and ground truth labels.\n",
        "- **Backpropagation:** The model performs backward propagation and updates weights using the Adam optimizer.\n",
        "- **Progress Tracking:** The total loss is printed for each epoch, and a decreasing trend indicates successful learning.\n",
        "\n",
        "**Output:**\n",
        "\n",
        "The model was trained over 10 epochs.\n",
        "\n",
        "The loss started at ~763.91 and steadily decreased to ~757.73.\n",
        "\n",
        "This indicates that the SNN model is learning, and training is working as expected.\n",
        "\n",
        "The gradual drop in loss reflects improved performance over time.\n"
      ],
      "metadata": {
        "id": "kZZsjNiVv9Sr"
      }
    },
    {
      "cell_type": "code",
      "source": [
        "# Training Loop\n",
        "\n",
        "num_epochs = 10\n",
        "\n",
        "for epoch in range(num_epochs):\n",
        "    model.train()\n",
        "    total_loss = 0\n",
        "\n",
        "    for batch in train_loader:\n",
        "        spike_tensor = convert_to_spike_tensor(\n",
        "            spike_times=batch['spike_times'],\n",
        "            spike_units=batch['spike_units'],\n",
        "            batch_size=len(batch['spike_times']),\n",
        "            input_size=700,\n",
        "            duration=100.0,\n",
        "            dt=1.0\n",
        "        ).to(device)\n",
        "\n",
        "        labels = batch['label'].to(device)\n",
        "\n",
        "        # Forward pass\n",
        "        outputs = model(spike_tensor)\n",
        "        logits = outputs.mean(dim=0)  # Average over time\n",
        "\n",
        "        # Compute loss and backprop\n",
        "        loss = criterion(logits, labels)\n",
        "        optimizer.zero_grad()\n",
        "        loss.backward()\n",
        "        optimizer.step()\n",
        "\n",
        "        total_loss += loss.item()\n",
        "\n",
        "    print(f\"Epoch {epoch+1}/{num_epochs} - Loss: {total_loss:.4f}\")\n",
        "\n"
      ],
      "metadata": {
        "colab": {
          "base_uri": "https://localhost:8080/"
        },
        "id": "zWKynKQI-sh2",
        "outputId": "abf90b2c-1998-4a7f-909d-b898829f4968"
      },
      "execution_count": null,
      "outputs": [
        {
          "output_type": "stream",
          "name": "stdout",
          "text": [
            "Epoch 1/10 - Loss: 763.9119\n",
            "Epoch 2/10 - Loss: 763.9119\n",
            "Epoch 3/10 - Loss: 763.8953\n",
            "Epoch 4/10 - Loss: 763.6119\n",
            "Epoch 5/10 - Loss: 762.8166\n",
            "Epoch 6/10 - Loss: 761.9438\n",
            "Epoch 7/10 - Loss: 760.8495\n",
            "Epoch 8/10 - Loss: 759.7484\n",
            "Epoch 9/10 - Loss: 758.6711\n",
            "Epoch 10/10 - Loss: 757.7340\n"
          ]
        }
      ]
    },
    {
      "cell_type": "code",
      "source": [
        "torch.save(model.state_dict(), \"norse_snn_model.pth\")"
      ],
      "metadata": {
        "id": "8JlvvZNpe98E"
      },
      "execution_count": null,
      "outputs": []
    },
    {
      "cell_type": "code",
      "source": [
        "loss_list = [\n",
        "    763.9119,\n",
        "    763.9119,\n",
        "    763.8953,\n",
        "    763.6119,\n",
        "    762.8166,\n",
        "    761.9438,\n",
        "    760.8495,\n",
        "    759.7484,\n",
        "    758.6771,\n",
        "    757.7340\n",
        "]"
      ],
      "metadata": {
        "id": "RHPCVo3xfu1x"
      },
      "execution_count": null,
      "outputs": []
    },
    {
      "cell_type": "markdown",
      "source": [
        "**6. Analyze initial results and log performance metrics**"
      ],
      "metadata": {
        "id": "yt1-MoJg0ZfU"
      }
    },
    {
      "cell_type": "markdown",
      "source": [
        "**Visualize Training Loss Over Epochs**:\n",
        "\n",
        "This plot provides a visual representation of how the model's loss changed across training epochs. A downward trend in the loss indicates that the model is learning effectively and improving its predictions over time.\n",
        "\n",
        "**Output Explanation:**\n",
        "\n",
        "The line plot shows training loss over 10 epochs.\n",
        "\n",
        "Each dot (o) represents the total loss at the end of one epoch.\n",
        "\n",
        "The loss value decreases gradually, from around 763.9 to 757.7 by the 10th epoch.\n",
        "\n",
        "This decline confirms that your Norse SNN model is learning, even if slowly.\n",
        "\n",
        "The learning curve appears smooth and consistent, which is a good sign (no overfitting or spikes).\n",
        "\n",
        "**This loop completes Phase 1 of the project by training the first SNN model on the SHD dataset.**\n",
        "\n",
        "\n"
      ],
      "metadata": {
        "id": "RweFy3S8xrjR"
      }
    },
    {
      "cell_type": "code",
      "source": [
        "import matplotlib.pyplot as plt\n",
        "\n",
        "plt.plot(range(1, 11), loss_list, marker='o', linestyle='-')\n",
        "plt.title(\"Training Loss Over Time (Norse SNN Model)\")\n",
        "plt.xlabel(\"Epoch\")\n",
        "plt.ylabel(\"Loss\")\n",
        "plt.grid(True)\n",
        "plt.xticks(range(1, 11))\n",
        "plt.show()\n"
      ],
      "metadata": {
        "colab": {
          "base_uri": "https://localhost:8080/",
          "height": 472
        },
        "id": "5SQ7-ED-gp0T",
        "outputId": "4b2d56cd-6acd-452c-d532-6a7e4d0593ec"
      },
      "execution_count": null,
      "outputs": [
        {
          "output_type": "display_data",
          "data": {
            "text/plain": [
              "<Figure size 640x480 with 1 Axes>"
            ],
            "image/png": "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\n"
          },
          "metadata": {}
        }
      ]
    },
    {
      "cell_type": "code",
      "source": [],
      "metadata": {
        "id": "mlmt47i3gp23"
      },
      "execution_count": null,
      "outputs": []
    }
  ],
  "metadata": {
    "colab": {
      "provenance": []
    },
    "kernelspec": {
      "display_name": "Python 3",
      "name": "python3"
    },
    "language_info": {
      "name": "python"
    }
  },
  "nbformat": 4,
  "nbformat_minor": 0
}
>>>>>>> 48b0049 (Fix: Replaced broken notebook with correct version)
